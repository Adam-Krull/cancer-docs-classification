{
 "cells": [
  {
   "cell_type": "code",
   "execution_count": 13,
   "metadata": {},
   "outputs": [],
   "source": [
    "#imports\n",
    "import pandas as pd\n",
    "from sklearn.feature_extraction.text import TfidfVectorizer\n",
    "from sklearn.model_selection import train_test_split\n",
    "from sklearn.feature_selection import RFE\n",
    "from sklearn.tree import DecisionTreeClassifier\n",
    "from sklearn.preprocessing import LabelEncoder\n",
    "from xgboost import XGBClassifier"
   ]
  },
  {
   "cell_type": "markdown",
   "metadata": {},
   "source": [
    "Read in the cleaned data from the previous notebook. I will split into train and validate (stratifying according to the target label) and transform using the tf-idf vectorizer."
   ]
  },
  {
   "cell_type": "code",
   "execution_count": 2,
   "metadata": {},
   "outputs": [
    {
     "data": {
      "text/html": [
       "<div>\n",
       "<style scoped>\n",
       "    .dataframe tbody tr th:only-of-type {\n",
       "        vertical-align: middle;\n",
       "    }\n",
       "\n",
       "    .dataframe tbody tr th {\n",
       "        vertical-align: top;\n",
       "    }\n",
       "\n",
       "    .dataframe thead th {\n",
       "        text-align: right;\n",
       "    }\n",
       "</style>\n",
       "<table border=\"1\" class=\"dataframe\">\n",
       "  <thead>\n",
       "    <tr style=\"text-align: right;\">\n",
       "      <th></th>\n",
       "      <th>label</th>\n",
       "      <th>text</th>\n",
       "    </tr>\n",
       "  </thead>\n",
       "  <tbody>\n",
       "    <tr>\n",
       "      <th>0</th>\n",
       "      <td>Thyroid_Cancer</td>\n",
       "      <td>thyroid surgeri children singl institut osama ...</td>\n",
       "    </tr>\n",
       "    <tr>\n",
       "      <th>1</th>\n",
       "      <td>Thyroid_Cancer</td>\n",
       "      <td>adopt strategi use prior year base four exclus...</td>\n",
       "    </tr>\n",
       "    <tr>\n",
       "      <th>2</th>\n",
       "      <td>Thyroid_Cancer</td>\n",
       "      <td>coronari arterybypass graft thrombosi brin bri...</td>\n",
       "    </tr>\n",
       "    <tr>\n",
       "      <th>3</th>\n",
       "      <td>Thyroid_Cancer</td>\n",
       "      <td>solitari plasmacytoma sp skull uncommon clinic...</td>\n",
       "    </tr>\n",
       "    <tr>\n",
       "      <th>4</th>\n",
       "      <td>Thyroid_Cancer</td>\n",
       "      <td>studi aim investig serum matrix metalloprotein...</td>\n",
       "    </tr>\n",
       "  </tbody>\n",
       "</table>\n",
       "</div>"
      ],
      "text/plain": [
       "            label                                               text\n",
       "0  Thyroid_Cancer  thyroid surgeri children singl institut osama ...\n",
       "1  Thyroid_Cancer  adopt strategi use prior year base four exclus...\n",
       "2  Thyroid_Cancer  coronari arterybypass graft thrombosi brin bri...\n",
       "3  Thyroid_Cancer  solitari plasmacytoma sp skull uncommon clinic...\n",
       "4  Thyroid_Cancer  studi aim investig serum matrix metalloprotein..."
      ]
     },
     "execution_count": 2,
     "metadata": {},
     "output_type": "execute_result"
    }
   ],
   "source": [
    "#read in df\n",
    "df = pd.read_csv('clean_stemmed.csv', index_col=0)\n",
    "df.head()"
   ]
  },
  {
   "cell_type": "code",
   "execution_count": 3,
   "metadata": {},
   "outputs": [
    {
     "data": {
      "text/plain": [
       "Lung_Cancer       452\n",
       "Thyroid_Cancer    283\n",
       "Colon_Cancer      261\n",
       "Name: label, dtype: int64"
      ]
     },
     "execution_count": 3,
     "metadata": {},
     "output_type": "execute_result"
    }
   ],
   "source": [
    "#labels are balanced enough\n",
    "df.label.value_counts()"
   ]
  },
  {
   "cell_type": "code",
   "execution_count": 4,
   "metadata": {},
   "outputs": [
    {
     "data": {
      "text/plain": [
       "((697, 2), (299, 2))"
      ]
     },
     "execution_count": 4,
     "metadata": {},
     "output_type": "execute_result"
    }
   ],
   "source": [
    "#split\n",
    "train, val = train_test_split(df, train_size=0.7,\n",
    "                              stratify=df.label)\n",
    "\n",
    "train.shape, val.shape"
   ]
  },
  {
   "cell_type": "code",
   "execution_count": 5,
   "metadata": {},
   "outputs": [
    {
     "data": {
      "text/plain": [
       "(697, 126262)"
      ]
     },
     "execution_count": 5,
     "metadata": {},
     "output_type": "execute_result"
    }
   ],
   "source": [
    "#transform train using vectorizer\n",
    "vectorizer = TfidfVectorizer()\n",
    "train_vec = vectorizer.fit_transform(train.text)\n",
    "\n",
    "train_vec.shape"
   ]
  },
  {
   "cell_type": "markdown",
   "metadata": {},
   "source": [
    "There are about 125k unique words found in my body of text. I'm going to mess with some of the parameters of the vectorizer to bring that value down. I'll only select the top 1,000 most frequently occuring words."
   ]
  },
  {
   "cell_type": "code",
   "execution_count": 6,
   "metadata": {},
   "outputs": [
    {
     "data": {
      "text/plain": [
       "(697, 1000)"
      ]
     },
     "execution_count": 6,
     "metadata": {},
     "output_type": "execute_result"
    }
   ],
   "source": [
    "#round 2\n",
    "vectorizer = TfidfVectorizer(max_features=1_000)\n",
    "train_vec = vectorizer.fit_transform(train.text)\n",
    "\n",
    "train_vec.shape"
   ]
  },
  {
   "cell_type": "code",
   "execution_count": 7,
   "metadata": {},
   "outputs": [
    {
     "data": {
      "text/html": [
       "<div>\n",
       "<style scoped>\n",
       "    .dataframe tbody tr th:only-of-type {\n",
       "        vertical-align: middle;\n",
       "    }\n",
       "\n",
       "    .dataframe tbody tr th {\n",
       "        vertical-align: top;\n",
       "    }\n",
       "\n",
       "    .dataframe thead th {\n",
       "        text-align: right;\n",
       "    }\n",
       "</style>\n",
       "<table border=\"1\" class=\"dataframe\">\n",
       "  <thead>\n",
       "    <tr style=\"text-align: right;\">\n",
       "      <th></th>\n",
       "      <th>novel</th>\n",
       "      <th>coronaviru</th>\n",
       "      <th>sarscov</th>\n",
       "      <th>found</th>\n",
       "      <th>caus</th>\n",
       "      <th>highli</th>\n",
       "      <th>diseas</th>\n",
       "      <th>character</th>\n",
       "      <th>covid</th>\n",
       "      <th>global</th>\n",
       "      <th>...</th>\n",
       "      <th>circrna</th>\n",
       "      <th>ncih</th>\n",
       "      <th>learn</th>\n",
       "      <th>mcf</th>\n",
       "      <th>mdamb</th>\n",
       "      <th>irradi</th>\n",
       "      <th>mtbhsp</th>\n",
       "      <th>scfvmtbhsp</th>\n",
       "      <th>keloid</th>\n",
       "      <th>pax</th>\n",
       "    </tr>\n",
       "  </thead>\n",
       "  <tbody>\n",
       "    <tr>\n",
       "      <th>0</th>\n",
       "      <td>0.0</td>\n",
       "      <td>0.0</td>\n",
       "      <td>0.0</td>\n",
       "      <td>0.0</td>\n",
       "      <td>0.016183</td>\n",
       "      <td>0.0</td>\n",
       "      <td>0.008092</td>\n",
       "      <td>0.008113</td>\n",
       "      <td>0.0</td>\n",
       "      <td>0.016448</td>\n",
       "      <td>...</td>\n",
       "      <td>0.0</td>\n",
       "      <td>0.0</td>\n",
       "      <td>0.010980</td>\n",
       "      <td>0.015566</td>\n",
       "      <td>0.051056</td>\n",
       "      <td>0.000000</td>\n",
       "      <td>0.0</td>\n",
       "      <td>0.000000</td>\n",
       "      <td>0.000000</td>\n",
       "      <td>0.0</td>\n",
       "    </tr>\n",
       "    <tr>\n",
       "      <th>1</th>\n",
       "      <td>0.0</td>\n",
       "      <td>0.0</td>\n",
       "      <td>0.0</td>\n",
       "      <td>0.0</td>\n",
       "      <td>0.013025</td>\n",
       "      <td>0.0</td>\n",
       "      <td>0.000000</td>\n",
       "      <td>0.000000</td>\n",
       "      <td>0.0</td>\n",
       "      <td>0.000000</td>\n",
       "      <td>...</td>\n",
       "      <td>0.0</td>\n",
       "      <td>0.0</td>\n",
       "      <td>0.017674</td>\n",
       "      <td>0.012528</td>\n",
       "      <td>0.010273</td>\n",
       "      <td>0.053948</td>\n",
       "      <td>0.0</td>\n",
       "      <td>0.000000</td>\n",
       "      <td>0.007970</td>\n",
       "      <td>0.0</td>\n",
       "    </tr>\n",
       "    <tr>\n",
       "      <th>2</th>\n",
       "      <td>0.0</td>\n",
       "      <td>0.0</td>\n",
       "      <td>0.0</td>\n",
       "      <td>0.0</td>\n",
       "      <td>0.000000</td>\n",
       "      <td>0.0</td>\n",
       "      <td>0.000000</td>\n",
       "      <td>0.000000</td>\n",
       "      <td>0.0</td>\n",
       "      <td>0.000000</td>\n",
       "      <td>...</td>\n",
       "      <td>0.0</td>\n",
       "      <td>0.0</td>\n",
       "      <td>0.011251</td>\n",
       "      <td>0.000000</td>\n",
       "      <td>0.000000</td>\n",
       "      <td>0.000000</td>\n",
       "      <td>0.0</td>\n",
       "      <td>0.017905</td>\n",
       "      <td>0.020294</td>\n",
       "      <td>0.0</td>\n",
       "    </tr>\n",
       "    <tr>\n",
       "      <th>3</th>\n",
       "      <td>0.0</td>\n",
       "      <td>0.0</td>\n",
       "      <td>0.0</td>\n",
       "      <td>0.0</td>\n",
       "      <td>0.000000</td>\n",
       "      <td>0.0</td>\n",
       "      <td>0.000000</td>\n",
       "      <td>0.000000</td>\n",
       "      <td>0.0</td>\n",
       "      <td>0.000000</td>\n",
       "      <td>...</td>\n",
       "      <td>0.0</td>\n",
       "      <td>0.0</td>\n",
       "      <td>0.000000</td>\n",
       "      <td>0.000000</td>\n",
       "      <td>0.000000</td>\n",
       "      <td>0.000000</td>\n",
       "      <td>0.0</td>\n",
       "      <td>0.000000</td>\n",
       "      <td>0.000000</td>\n",
       "      <td>0.0</td>\n",
       "    </tr>\n",
       "    <tr>\n",
       "      <th>4</th>\n",
       "      <td>0.0</td>\n",
       "      <td>0.0</td>\n",
       "      <td>0.0</td>\n",
       "      <td>0.0</td>\n",
       "      <td>0.000000</td>\n",
       "      <td>0.0</td>\n",
       "      <td>0.000000</td>\n",
       "      <td>0.000000</td>\n",
       "      <td>0.0</td>\n",
       "      <td>0.000000</td>\n",
       "      <td>...</td>\n",
       "      <td>0.0</td>\n",
       "      <td>0.0</td>\n",
       "      <td>0.000000</td>\n",
       "      <td>0.000000</td>\n",
       "      <td>0.000000</td>\n",
       "      <td>0.000000</td>\n",
       "      <td>0.0</td>\n",
       "      <td>0.000000</td>\n",
       "      <td>0.000000</td>\n",
       "      <td>0.0</td>\n",
       "    </tr>\n",
       "  </tbody>\n",
       "</table>\n",
       "<p>5 rows × 1000 columns</p>\n",
       "</div>"
      ],
      "text/plain": [
       "   novel  coronaviru  sarscov  found      caus  highli    diseas  character  \\\n",
       "0    0.0         0.0      0.0    0.0  0.016183     0.0  0.008092   0.008113   \n",
       "1    0.0         0.0      0.0    0.0  0.013025     0.0  0.000000   0.000000   \n",
       "2    0.0         0.0      0.0    0.0  0.000000     0.0  0.000000   0.000000   \n",
       "3    0.0         0.0      0.0    0.0  0.000000     0.0  0.000000   0.000000   \n",
       "4    0.0         0.0      0.0    0.0  0.000000     0.0  0.000000   0.000000   \n",
       "\n",
       "   covid    global  ...  circrna  ncih     learn       mcf     mdamb  \\\n",
       "0    0.0  0.016448  ...      0.0   0.0  0.010980  0.015566  0.051056   \n",
       "1    0.0  0.000000  ...      0.0   0.0  0.017674  0.012528  0.010273   \n",
       "2    0.0  0.000000  ...      0.0   0.0  0.011251  0.000000  0.000000   \n",
       "3    0.0  0.000000  ...      0.0   0.0  0.000000  0.000000  0.000000   \n",
       "4    0.0  0.000000  ...      0.0   0.0  0.000000  0.000000  0.000000   \n",
       "\n",
       "     irradi  mtbhsp  scfvmtbhsp    keloid  pax  \n",
       "0  0.000000     0.0    0.000000  0.000000  0.0  \n",
       "1  0.053948     0.0    0.000000  0.007970  0.0  \n",
       "2  0.000000     0.0    0.017905  0.020294  0.0  \n",
       "3  0.000000     0.0    0.000000  0.000000  0.0  \n",
       "4  0.000000     0.0    0.000000  0.000000  0.0  \n",
       "\n",
       "[5 rows x 1000 columns]"
      ]
     },
     "execution_count": 7,
     "metadata": {},
     "output_type": "execute_result"
    }
   ],
   "source": [
    "train_vec = pd.DataFrame(train_vec.toarray(), columns=vectorizer.vocabulary_.keys())\n",
    "train_vec.head()"
   ]
  },
  {
   "cell_type": "markdown",
   "metadata": {},
   "source": [
    "Still a lot of features. I'll use recursive feature elimination with a basic decision tree to reduce this to 50."
   ]
  },
  {
   "cell_type": "code",
   "execution_count": 8,
   "metadata": {},
   "outputs": [
    {
     "data": {
      "text/plain": [
       "RFE(estimator=DecisionTreeClassifier(random_state=42), n_features_to_select=50,\n",
       "    step=50)"
      ]
     },
     "execution_count": 8,
     "metadata": {},
     "output_type": "execute_result"
    }
   ],
   "source": [
    "#run rfe\n",
    "tree = DecisionTreeClassifier(random_state=42)\n",
    "selector = RFE(tree, n_features_to_select=50, step=50)\n",
    "selector.fit(train_vec, train.label)"
   ]
  },
  {
   "cell_type": "markdown",
   "metadata": {},
   "source": [
    "Here we can see the final 50 features that have been selected. Each row is a document from the train set. I will use these features to predict the label."
   ]
  },
  {
   "cell_type": "code",
   "execution_count": 9,
   "metadata": {},
   "outputs": [
    {
     "data": {
      "text/html": [
       "<div>\n",
       "<style scoped>\n",
       "    .dataframe tbody tr th:only-of-type {\n",
       "        vertical-align: middle;\n",
       "    }\n",
       "\n",
       "    .dataframe tbody tr th {\n",
       "        vertical-align: top;\n",
       "    }\n",
       "\n",
       "    .dataframe thead th {\n",
       "        text-align: right;\n",
       "    }\n",
       "</style>\n",
       "<table border=\"1\" class=\"dataframe\">\n",
       "  <thead>\n",
       "    <tr style=\"text-align: right;\">\n",
       "      <th></th>\n",
       "      <th>covid</th>\n",
       "      <th>imag</th>\n",
       "      <th>case</th>\n",
       "      <th>identif</th>\n",
       "      <th>isol</th>\n",
       "      <th>avail</th>\n",
       "      <th>literatur</th>\n",
       "      <th>current</th>\n",
       "      <th>laboratori</th>\n",
       "      <th>limit</th>\n",
       "      <th>...</th>\n",
       "      <th>aal</th>\n",
       "      <th>deplet</th>\n",
       "      <th>infiltr</th>\n",
       "      <th>environment</th>\n",
       "      <th>oxid</th>\n",
       "      <th>accumul</th>\n",
       "      <th>wwwfrontiersinaugust</th>\n",
       "      <th>sirna</th>\n",
       "      <th>identi</th>\n",
       "      <th>learn</th>\n",
       "    </tr>\n",
       "  </thead>\n",
       "  <tbody>\n",
       "    <tr>\n",
       "      <th>0</th>\n",
       "      <td>0.0</td>\n",
       "      <td>0.000000</td>\n",
       "      <td>0.012566</td>\n",
       "      <td>0.015720</td>\n",
       "      <td>0.000000</td>\n",
       "      <td>0.000000</td>\n",
       "      <td>0.0</td>\n",
       "      <td>0.008092</td>\n",
       "      <td>0.000000</td>\n",
       "      <td>0.007362</td>\n",
       "      <td>...</td>\n",
       "      <td>0.0</td>\n",
       "      <td>0.0</td>\n",
       "      <td>0.026098</td>\n",
       "      <td>0.012435</td>\n",
       "      <td>0.004561</td>\n",
       "      <td>0.009136</td>\n",
       "      <td>0.011984</td>\n",
       "      <td>0.048444</td>\n",
       "      <td>0.0</td>\n",
       "      <td>0.010980</td>\n",
       "    </tr>\n",
       "    <tr>\n",
       "      <th>1</th>\n",
       "      <td>0.0</td>\n",
       "      <td>0.031172</td>\n",
       "      <td>0.010113</td>\n",
       "      <td>0.037955</td>\n",
       "      <td>0.012465</td>\n",
       "      <td>0.055892</td>\n",
       "      <td>0.0</td>\n",
       "      <td>0.000000</td>\n",
       "      <td>0.000000</td>\n",
       "      <td>0.000000</td>\n",
       "      <td>...</td>\n",
       "      <td>0.0</td>\n",
       "      <td>0.0</td>\n",
       "      <td>0.000000</td>\n",
       "      <td>0.046706</td>\n",
       "      <td>0.022026</td>\n",
       "      <td>0.051473</td>\n",
       "      <td>0.000000</td>\n",
       "      <td>0.015596</td>\n",
       "      <td>0.0</td>\n",
       "      <td>0.017674</td>\n",
       "    </tr>\n",
       "    <tr>\n",
       "      <th>2</th>\n",
       "      <td>0.0</td>\n",
       "      <td>0.029766</td>\n",
       "      <td>0.000000</td>\n",
       "      <td>0.000000</td>\n",
       "      <td>0.000000</td>\n",
       "      <td>0.000000</td>\n",
       "      <td>0.0</td>\n",
       "      <td>0.016583</td>\n",
       "      <td>0.020804</td>\n",
       "      <td>0.000000</td>\n",
       "      <td>...</td>\n",
       "      <td>0.0</td>\n",
       "      <td>0.0</td>\n",
       "      <td>0.017828</td>\n",
       "      <td>0.016990</td>\n",
       "      <td>0.177602</td>\n",
       "      <td>0.056172</td>\n",
       "      <td>0.000000</td>\n",
       "      <td>0.000000</td>\n",
       "      <td>0.0</td>\n",
       "      <td>0.011251</td>\n",
       "    </tr>\n",
       "    <tr>\n",
       "      <th>3</th>\n",
       "      <td>0.0</td>\n",
       "      <td>0.000000</td>\n",
       "      <td>0.000000</td>\n",
       "      <td>0.000000</td>\n",
       "      <td>0.000000</td>\n",
       "      <td>0.026236</td>\n",
       "      <td>0.0</td>\n",
       "      <td>0.000000</td>\n",
       "      <td>0.000000</td>\n",
       "      <td>0.000000</td>\n",
       "      <td>...</td>\n",
       "      <td>0.0</td>\n",
       "      <td>0.0</td>\n",
       "      <td>0.000000</td>\n",
       "      <td>0.000000</td>\n",
       "      <td>0.000000</td>\n",
       "      <td>0.000000</td>\n",
       "      <td>0.000000</td>\n",
       "      <td>0.000000</td>\n",
       "      <td>0.0</td>\n",
       "      <td>0.000000</td>\n",
       "    </tr>\n",
       "    <tr>\n",
       "      <th>4</th>\n",
       "      <td>0.0</td>\n",
       "      <td>0.014357</td>\n",
       "      <td>0.000000</td>\n",
       "      <td>0.000000</td>\n",
       "      <td>0.000000</td>\n",
       "      <td>0.000000</td>\n",
       "      <td>0.0</td>\n",
       "      <td>0.000000</td>\n",
       "      <td>0.000000</td>\n",
       "      <td>0.000000</td>\n",
       "      <td>...</td>\n",
       "      <td>0.0</td>\n",
       "      <td>0.0</td>\n",
       "      <td>0.012899</td>\n",
       "      <td>0.000000</td>\n",
       "      <td>0.040579</td>\n",
       "      <td>0.000000</td>\n",
       "      <td>0.000000</td>\n",
       "      <td>0.000000</td>\n",
       "      <td>0.0</td>\n",
       "      <td>0.000000</td>\n",
       "    </tr>\n",
       "  </tbody>\n",
       "</table>\n",
       "<p>5 rows × 50 columns</p>\n",
       "</div>"
      ],
      "text/plain": [
       "   covid      imag      case   identif      isol     avail  literatur  \\\n",
       "0    0.0  0.000000  0.012566  0.015720  0.000000  0.000000        0.0   \n",
       "1    0.0  0.031172  0.010113  0.037955  0.012465  0.055892        0.0   \n",
       "2    0.0  0.029766  0.000000  0.000000  0.000000  0.000000        0.0   \n",
       "3    0.0  0.000000  0.000000  0.000000  0.000000  0.026236        0.0   \n",
       "4    0.0  0.014357  0.000000  0.000000  0.000000  0.000000        0.0   \n",
       "\n",
       "    current  laboratori     limit  ...  aal  deplet   infiltr  environment  \\\n",
       "0  0.008092    0.000000  0.007362  ...  0.0     0.0  0.026098     0.012435   \n",
       "1  0.000000    0.000000  0.000000  ...  0.0     0.0  0.000000     0.046706   \n",
       "2  0.016583    0.020804  0.000000  ...  0.0     0.0  0.017828     0.016990   \n",
       "3  0.000000    0.000000  0.000000  ...  0.0     0.0  0.000000     0.000000   \n",
       "4  0.000000    0.000000  0.000000  ...  0.0     0.0  0.012899     0.000000   \n",
       "\n",
       "       oxid   accumul  wwwfrontiersinaugust     sirna  identi     learn  \n",
       "0  0.004561  0.009136              0.011984  0.048444     0.0  0.010980  \n",
       "1  0.022026  0.051473              0.000000  0.015596     0.0  0.017674  \n",
       "2  0.177602  0.056172              0.000000  0.000000     0.0  0.011251  \n",
       "3  0.000000  0.000000              0.000000  0.000000     0.0  0.000000  \n",
       "4  0.040579  0.000000              0.000000  0.000000     0.0  0.000000  \n",
       "\n",
       "[5 rows x 50 columns]"
      ]
     },
     "execution_count": 9,
     "metadata": {},
     "output_type": "execute_result"
    }
   ],
   "source": [
    "final_train = train_vec.loc[:, selector.support_]\n",
    "final_train.head()"
   ]
  },
  {
   "cell_type": "code",
   "execution_count": 16,
   "metadata": {},
   "outputs": [],
   "source": [
    "le = LabelEncoder()\n",
    "y_train = le.fit_transform(train.label)"
   ]
  },
  {
   "cell_type": "markdown",
   "metadata": {},
   "source": [
    "First, let's establish a baseline accuracy. The baseline will be calculated by predicting the most prevalent class every time."
   ]
  },
  {
   "cell_type": "code",
   "execution_count": 10,
   "metadata": {},
   "outputs": [
    {
     "data": {
      "text/plain": [
       "Lung_Cancer       316\n",
       "Thyroid_Cancer    198\n",
       "Colon_Cancer      183\n",
       "Name: label, dtype: int64"
      ]
     },
     "execution_count": 10,
     "metadata": {},
     "output_type": "execute_result"
    }
   ],
   "source": [
    "train.label.value_counts()"
   ]
  },
  {
   "cell_type": "code",
   "execution_count": 11,
   "metadata": {},
   "outputs": [
    {
     "data": {
      "text/plain": [
       "45.34"
      ]
     },
     "execution_count": 11,
     "metadata": {},
     "output_type": "execute_result"
    }
   ],
   "source": [
    "round(train.label.value_counts().max() / train.label.value_counts().sum() * 100, 2)"
   ]
  },
  {
   "cell_type": "markdown",
   "metadata": {},
   "source": [
    "Our baseline accuracy is about 45% when guessing the most prevalent class (Lung_Cancer) for every document. Let's see if we can beat that baseline with an xgboost model with all default parameters."
   ]
  },
  {
   "cell_type": "code",
   "execution_count": 23,
   "metadata": {},
   "outputs": [
    {
     "data": {
      "text/plain": [
       "XGBClassifier(base_score=None, booster=None, callbacks=None,\n",
       "              colsample_bylevel=None, colsample_bynode=None,\n",
       "              colsample_bytree=None, device=None, early_stopping_rounds=None,\n",
       "              enable_categorical=False, eval_metric=None, feature_types=None,\n",
       "              gamma=None, grow_policy=None, importance_type=None,\n",
       "              interaction_constraints=None, learning_rate=None, max_bin=None,\n",
       "              max_cat_threshold=None, max_cat_to_onehot=None,\n",
       "              max_delta_step=None, max_depth=None, max_leaves=None,\n",
       "              min_child_weight=None, missing=nan, monotone_constraints=None,\n",
       "              multi_strategy=None, n_estimators=None, n_jobs=None,\n",
       "              num_parallel_tree=None, objective='multi:softprob', ...)"
      ]
     },
     "execution_count": 23,
     "metadata": {},
     "output_type": "execute_result"
    }
   ],
   "source": [
    "clf = XGBClassifier(random_state=42)\n",
    "clf.fit(final_train, y_train)"
   ]
  },
  {
   "cell_type": "code",
   "execution_count": 24,
   "metadata": {},
   "outputs": [
    {
     "data": {
      "text/plain": [
       "1.0"
      ]
     },
     "execution_count": 24,
     "metadata": {},
     "output_type": "execute_result"
    }
   ],
   "source": [
    "clf.score(final_train, y_train)"
   ]
  },
  {
   "cell_type": "markdown",
   "metadata": {},
   "source": [
    "Perfect accuracy on the train dataset.. I'm concerned. Let's prepare the validate dataset the same way as train, and see how our model fares on unseen data."
   ]
  },
  {
   "cell_type": "code",
   "execution_count": 25,
   "metadata": {},
   "outputs": [
    {
     "data": {
      "text/html": [
       "<div>\n",
       "<style scoped>\n",
       "    .dataframe tbody tr th:only-of-type {\n",
       "        vertical-align: middle;\n",
       "    }\n",
       "\n",
       "    .dataframe tbody tr th {\n",
       "        vertical-align: top;\n",
       "    }\n",
       "\n",
       "    .dataframe thead th {\n",
       "        text-align: right;\n",
       "    }\n",
       "</style>\n",
       "<table border=\"1\" class=\"dataframe\">\n",
       "  <thead>\n",
       "    <tr style=\"text-align: right;\">\n",
       "      <th></th>\n",
       "      <th>covid</th>\n",
       "      <th>imag</th>\n",
       "      <th>case</th>\n",
       "      <th>identif</th>\n",
       "      <th>isol</th>\n",
       "      <th>avail</th>\n",
       "      <th>literatur</th>\n",
       "      <th>current</th>\n",
       "      <th>laboratori</th>\n",
       "      <th>limit</th>\n",
       "      <th>...</th>\n",
       "      <th>aal</th>\n",
       "      <th>deplet</th>\n",
       "      <th>infiltr</th>\n",
       "      <th>environment</th>\n",
       "      <th>oxid</th>\n",
       "      <th>accumul</th>\n",
       "      <th>wwwfrontiersinaugust</th>\n",
       "      <th>sirna</th>\n",
       "      <th>identi</th>\n",
       "      <th>learn</th>\n",
       "    </tr>\n",
       "  </thead>\n",
       "  <tbody>\n",
       "    <tr>\n",
       "      <th>0</th>\n",
       "      <td>0.0</td>\n",
       "      <td>0.037005</td>\n",
       "      <td>0.00000</td>\n",
       "      <td>0.004291</td>\n",
       "      <td>0.016911</td>\n",
       "      <td>0.000000</td>\n",
       "      <td>0.0</td>\n",
       "      <td>0.000000</td>\n",
       "      <td>0.0</td>\n",
       "      <td>0.000000</td>\n",
       "      <td>...</td>\n",
       "      <td>0.0</td>\n",
       "      <td>0.445275</td>\n",
       "      <td>0.018997</td>\n",
       "      <td>0.000000</td>\n",
       "      <td>0.034862</td>\n",
       "      <td>0.024940</td>\n",
       "      <td>0.00000</td>\n",
       "      <td>0.0</td>\n",
       "      <td>0.000000</td>\n",
       "      <td>0.005995</td>\n",
       "    </tr>\n",
       "    <tr>\n",
       "      <th>1</th>\n",
       "      <td>0.0</td>\n",
       "      <td>0.018341</td>\n",
       "      <td>0.00000</td>\n",
       "      <td>0.014888</td>\n",
       "      <td>0.000000</td>\n",
       "      <td>0.078925</td>\n",
       "      <td>0.0</td>\n",
       "      <td>0.000000</td>\n",
       "      <td>0.0</td>\n",
       "      <td>0.000000</td>\n",
       "      <td>...</td>\n",
       "      <td>0.0</td>\n",
       "      <td>0.000000</td>\n",
       "      <td>0.000000</td>\n",
       "      <td>0.062812</td>\n",
       "      <td>0.000000</td>\n",
       "      <td>0.000000</td>\n",
       "      <td>0.00000</td>\n",
       "      <td>0.0</td>\n",
       "      <td>0.000000</td>\n",
       "      <td>0.000000</td>\n",
       "    </tr>\n",
       "    <tr>\n",
       "      <th>2</th>\n",
       "      <td>0.0</td>\n",
       "      <td>0.000000</td>\n",
       "      <td>0.00000</td>\n",
       "      <td>0.000000</td>\n",
       "      <td>0.000000</td>\n",
       "      <td>0.000000</td>\n",
       "      <td>0.0</td>\n",
       "      <td>0.000000</td>\n",
       "      <td>0.0</td>\n",
       "      <td>0.000000</td>\n",
       "      <td>...</td>\n",
       "      <td>0.0</td>\n",
       "      <td>0.000000</td>\n",
       "      <td>0.000000</td>\n",
       "      <td>0.000000</td>\n",
       "      <td>0.000000</td>\n",
       "      <td>0.098527</td>\n",
       "      <td>0.03231</td>\n",
       "      <td>0.0</td>\n",
       "      <td>0.000000</td>\n",
       "      <td>0.088807</td>\n",
       "    </tr>\n",
       "    <tr>\n",
       "      <th>3</th>\n",
       "      <td>0.0</td>\n",
       "      <td>0.007259</td>\n",
       "      <td>0.00471</td>\n",
       "      <td>0.014731</td>\n",
       "      <td>0.000000</td>\n",
       "      <td>0.000000</td>\n",
       "      <td>0.0</td>\n",
       "      <td>0.006066</td>\n",
       "      <td>0.0</td>\n",
       "      <td>0.000000</td>\n",
       "      <td>...</td>\n",
       "      <td>0.0</td>\n",
       "      <td>0.005879</td>\n",
       "      <td>0.000000</td>\n",
       "      <td>0.040397</td>\n",
       "      <td>0.000000</td>\n",
       "      <td>0.054793</td>\n",
       "      <td>0.00000</td>\n",
       "      <td>0.0</td>\n",
       "      <td>0.046247</td>\n",
       "      <td>0.004116</td>\n",
       "    </tr>\n",
       "    <tr>\n",
       "      <th>4</th>\n",
       "      <td>0.0</td>\n",
       "      <td>0.011694</td>\n",
       "      <td>0.00000</td>\n",
       "      <td>0.000000</td>\n",
       "      <td>0.000000</td>\n",
       "      <td>0.000000</td>\n",
       "      <td>0.0</td>\n",
       "      <td>0.009772</td>\n",
       "      <td>0.0</td>\n",
       "      <td>0.044454</td>\n",
       "      <td>...</td>\n",
       "      <td>0.0</td>\n",
       "      <td>0.009471</td>\n",
       "      <td>0.015759</td>\n",
       "      <td>0.150186</td>\n",
       "      <td>0.000000</td>\n",
       "      <td>0.000000</td>\n",
       "      <td>0.00000</td>\n",
       "      <td>0.0</td>\n",
       "      <td>0.000000</td>\n",
       "      <td>0.000000</td>\n",
       "    </tr>\n",
       "  </tbody>\n",
       "</table>\n",
       "<p>5 rows × 50 columns</p>\n",
       "</div>"
      ],
      "text/plain": [
       "   covid      imag     case   identif      isol     avail  literatur  \\\n",
       "0    0.0  0.037005  0.00000  0.004291  0.016911  0.000000        0.0   \n",
       "1    0.0  0.018341  0.00000  0.014888  0.000000  0.078925        0.0   \n",
       "2    0.0  0.000000  0.00000  0.000000  0.000000  0.000000        0.0   \n",
       "3    0.0  0.007259  0.00471  0.014731  0.000000  0.000000        0.0   \n",
       "4    0.0  0.011694  0.00000  0.000000  0.000000  0.000000        0.0   \n",
       "\n",
       "    current  laboratori     limit  ...  aal    deplet   infiltr  environment  \\\n",
       "0  0.000000         0.0  0.000000  ...  0.0  0.445275  0.018997     0.000000   \n",
       "1  0.000000         0.0  0.000000  ...  0.0  0.000000  0.000000     0.062812   \n",
       "2  0.000000         0.0  0.000000  ...  0.0  0.000000  0.000000     0.000000   \n",
       "3  0.006066         0.0  0.000000  ...  0.0  0.005879  0.000000     0.040397   \n",
       "4  0.009772         0.0  0.044454  ...  0.0  0.009471  0.015759     0.150186   \n",
       "\n",
       "       oxid   accumul  wwwfrontiersinaugust  sirna    identi     learn  \n",
       "0  0.034862  0.024940               0.00000    0.0  0.000000  0.005995  \n",
       "1  0.000000  0.000000               0.00000    0.0  0.000000  0.000000  \n",
       "2  0.000000  0.098527               0.03231    0.0  0.000000  0.088807  \n",
       "3  0.000000  0.054793               0.00000    0.0  0.046247  0.004116  \n",
       "4  0.000000  0.000000               0.00000    0.0  0.000000  0.000000  \n",
       "\n",
       "[5 rows x 50 columns]"
      ]
     },
     "execution_count": 25,
     "metadata": {},
     "output_type": "execute_result"
    }
   ],
   "source": [
    "val_vec = vectorizer.transform(val.text)\n",
    "val_vec = pd.DataFrame(val_vec.toarray(), columns=vectorizer.vocabulary_.keys())\n",
    "final_val = val_vec.loc[:, selector.support_]\n",
    "final_val.head()"
   ]
  },
  {
   "cell_type": "code",
   "execution_count": 26,
   "metadata": {},
   "outputs": [],
   "source": [
    "y_val = le.transform(val.label)"
   ]
  },
  {
   "cell_type": "markdown",
   "metadata": {},
   "source": [
    "Now that our validate dataset has been prepared in the same manner as train, it can be used to generate predictions from our trained model."
   ]
  },
  {
   "cell_type": "code",
   "execution_count": 27,
   "metadata": {},
   "outputs": [
    {
     "data": {
      "text/plain": [
       "0.8862876254180602"
      ]
     },
     "execution_count": 27,
     "metadata": {},
     "output_type": "execute_result"
    }
   ],
   "source": [
    "clf.score(final_val, y_val)"
   ]
  },
  {
   "cell_type": "markdown",
   "metadata": {},
   "source": [
    "Over 88% accuracy! This is a great start for the project. We have almost doubled the baseline accuracy (45%). This proves the project has merit, and future feature selection / model fine-tuning could improve the result. Now, the goal is to pickle this model and make it callable from the command line."
   ]
  },
  {
   "cell_type": "code",
   "execution_count": null,
   "metadata": {},
   "outputs": [],
   "source": []
  }
 ],
 "metadata": {
  "kernelspec": {
   "display_name": "base",
   "language": "python",
   "name": "python3"
  },
  "language_info": {
   "codemirror_mode": {
    "name": "ipython",
    "version": 3
   },
   "file_extension": ".py",
   "mimetype": "text/x-python",
   "name": "python",
   "nbconvert_exporter": "python",
   "pygments_lexer": "ipython3",
   "version": "3.8.5"
  }
 },
 "nbformat": 4,
 "nbformat_minor": 2
}
