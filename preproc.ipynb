{
 "cells": [
  {
   "cell_type": "code",
   "execution_count": 22,
   "metadata": {},
   "outputs": [],
   "source": [
    "#imports\n",
    "import json\n",
    "import pandas as pd\n",
    "import pickle\n",
    "from sklearn.feature_extraction.text import TfidfVectorizer\n",
    "from sklearn.model_selection import train_test_split\n",
    "from sklearn.feature_selection import RFE\n",
    "from sklearn.tree import DecisionTreeClassifier\n",
    "from sklearn.preprocessing import LabelEncoder\n",
    "from xgboost import XGBClassifier"
   ]
  },
  {
   "cell_type": "markdown",
   "metadata": {},
   "source": [
    "Read in the cleaned data from the previous notebook. I will split into train and validate (stratifying according to the target label) and transform using the tf-idf vectorizer."
   ]
  },
  {
   "cell_type": "code",
   "execution_count": 2,
   "metadata": {},
   "outputs": [
    {
     "data": {
      "text/html": [
       "<div>\n",
       "<style scoped>\n",
       "    .dataframe tbody tr th:only-of-type {\n",
       "        vertical-align: middle;\n",
       "    }\n",
       "\n",
       "    .dataframe tbody tr th {\n",
       "        vertical-align: top;\n",
       "    }\n",
       "\n",
       "    .dataframe thead th {\n",
       "        text-align: right;\n",
       "    }\n",
       "</style>\n",
       "<table border=\"1\" class=\"dataframe\">\n",
       "  <thead>\n",
       "    <tr style=\"text-align: right;\">\n",
       "      <th></th>\n",
       "      <th>label</th>\n",
       "      <th>text</th>\n",
       "    </tr>\n",
       "  </thead>\n",
       "  <tbody>\n",
       "    <tr>\n",
       "      <th>0</th>\n",
       "      <td>Thyroid_Cancer</td>\n",
       "      <td>thyroid surgeri children singl institut osama ...</td>\n",
       "    </tr>\n",
       "    <tr>\n",
       "      <th>1</th>\n",
       "      <td>Thyroid_Cancer</td>\n",
       "      <td>adopt strategi use prior year base four exclus...</td>\n",
       "    </tr>\n",
       "    <tr>\n",
       "      <th>2</th>\n",
       "      <td>Thyroid_Cancer</td>\n",
       "      <td>coronari arterybypass graft thrombosi brin bri...</td>\n",
       "    </tr>\n",
       "    <tr>\n",
       "      <th>3</th>\n",
       "      <td>Thyroid_Cancer</td>\n",
       "      <td>solitari plasmacytoma sp skull uncommon clinic...</td>\n",
       "    </tr>\n",
       "    <tr>\n",
       "      <th>4</th>\n",
       "      <td>Thyroid_Cancer</td>\n",
       "      <td>studi aim investig serum matrix metalloprotein...</td>\n",
       "    </tr>\n",
       "  </tbody>\n",
       "</table>\n",
       "</div>"
      ],
      "text/plain": [
       "            label                                               text\n",
       "0  Thyroid_Cancer  thyroid surgeri children singl institut osama ...\n",
       "1  Thyroid_Cancer  adopt strategi use prior year base four exclus...\n",
       "2  Thyroid_Cancer  coronari arterybypass graft thrombosi brin bri...\n",
       "3  Thyroid_Cancer  solitari plasmacytoma sp skull uncommon clinic...\n",
       "4  Thyroid_Cancer  studi aim investig serum matrix metalloprotein..."
      ]
     },
     "execution_count": 2,
     "metadata": {},
     "output_type": "execute_result"
    }
   ],
   "source": [
    "#read in df\n",
    "df = pd.read_csv('clean_stemmed.csv', index_col=0)\n",
    "df.head()"
   ]
  },
  {
   "cell_type": "code",
   "execution_count": 3,
   "metadata": {},
   "outputs": [
    {
     "data": {
      "text/plain": [
       "Lung_Cancer       452\n",
       "Thyroid_Cancer    283\n",
       "Colon_Cancer      261\n",
       "Name: label, dtype: int64"
      ]
     },
     "execution_count": 3,
     "metadata": {},
     "output_type": "execute_result"
    }
   ],
   "source": [
    "#labels are balanced enough\n",
    "df.label.value_counts()"
   ]
  },
  {
   "cell_type": "code",
   "execution_count": 4,
   "metadata": {},
   "outputs": [
    {
     "data": {
      "text/plain": [
       "((697, 2), (299, 2))"
      ]
     },
     "execution_count": 4,
     "metadata": {},
     "output_type": "execute_result"
    }
   ],
   "source": [
    "#split\n",
    "train, val = train_test_split(df, train_size=0.7,\n",
    "                              stratify=df.label)\n",
    "\n",
    "train.shape, val.shape"
   ]
  },
  {
   "cell_type": "code",
   "execution_count": 5,
   "metadata": {},
   "outputs": [
    {
     "data": {
      "text/plain": [
       "(697, 124793)"
      ]
     },
     "execution_count": 5,
     "metadata": {},
     "output_type": "execute_result"
    }
   ],
   "source": [
    "#transform train using vectorizer\n",
    "vectorizer = TfidfVectorizer()\n",
    "train_vec = vectorizer.fit_transform(train.text)\n",
    "\n",
    "train_vec.shape"
   ]
  },
  {
   "cell_type": "markdown",
   "metadata": {},
   "source": [
    "There are about 125k unique words found in my body of text. I'm going to mess with some of the parameters of the vectorizer to bring that value down. I'll only select the top 1,000 most frequently occuring words."
   ]
  },
  {
   "cell_type": "code",
   "execution_count": 6,
   "metadata": {},
   "outputs": [
    {
     "data": {
      "text/plain": [
       "(697, 1000)"
      ]
     },
     "execution_count": 6,
     "metadata": {},
     "output_type": "execute_result"
    }
   ],
   "source": [
    "#round 2\n",
    "vectorizer = TfidfVectorizer(max_features=1_000)\n",
    "train_vec = vectorizer.fit_transform(train.text)\n",
    "\n",
    "train_vec.shape"
   ]
  },
  {
   "cell_type": "code",
   "execution_count": 7,
   "metadata": {},
   "outputs": [
    {
     "data": {
      "text/html": [
       "<div>\n",
       "<style scoped>\n",
       "    .dataframe tbody tr th:only-of-type {\n",
       "        vertical-align: middle;\n",
       "    }\n",
       "\n",
       "    .dataframe tbody tr th {\n",
       "        vertical-align: top;\n",
       "    }\n",
       "\n",
       "    .dataframe thead th {\n",
       "        text-align: right;\n",
       "    }\n",
       "</style>\n",
       "<table border=\"1\" class=\"dataframe\">\n",
       "  <thead>\n",
       "    <tr style=\"text-align: right;\">\n",
       "      <th></th>\n",
       "      <th>heterogen</th>\n",
       "      <th>densiti</th>\n",
       "      <th>amount</th>\n",
       "      <th>respect</th>\n",
       "      <th>tumor</th>\n",
       "      <th>locat</th>\n",
       "      <th>area</th>\n",
       "      <th>significantli</th>\n",
       "      <th>differ</th>\n",
       "      <th>accord</th>\n",
       "      <th>...</th>\n",
       "      <th>hcc</th>\n",
       "      <th>ablat</th>\n",
       "      <th>circ</th>\n",
       "      <th>atm</th>\n",
       "      <th>scfvmtbhsp</th>\n",
       "      <th>circrna</th>\n",
       "      <th>wait</th>\n",
       "      <th>keloid</th>\n",
       "      <th>chl</th>\n",
       "      <th>uplcesiqtofmsm</th>\n",
       "    </tr>\n",
       "  </thead>\n",
       "  <tbody>\n",
       "    <tr>\n",
       "      <th>0</th>\n",
       "      <td>0.00000</td>\n",
       "      <td>0.000000</td>\n",
       "      <td>0.000000</td>\n",
       "      <td>0.0</td>\n",
       "      <td>0.0</td>\n",
       "      <td>0.0</td>\n",
       "      <td>0.000000</td>\n",
       "      <td>0.0</td>\n",
       "      <td>0.0</td>\n",
       "      <td>0.000000</td>\n",
       "      <td>...</td>\n",
       "      <td>0.035233</td>\n",
       "      <td>0.000000</td>\n",
       "      <td>0.00000</td>\n",
       "      <td>0.000000</td>\n",
       "      <td>0.000000</td>\n",
       "      <td>0.013543</td>\n",
       "      <td>0.0</td>\n",
       "      <td>0.000000</td>\n",
       "      <td>0.000000</td>\n",
       "      <td>0.000000</td>\n",
       "    </tr>\n",
       "    <tr>\n",
       "      <th>1</th>\n",
       "      <td>0.00000</td>\n",
       "      <td>0.000000</td>\n",
       "      <td>0.000000</td>\n",
       "      <td>0.0</td>\n",
       "      <td>0.0</td>\n",
       "      <td>0.0</td>\n",
       "      <td>0.000000</td>\n",
       "      <td>0.0</td>\n",
       "      <td>0.0</td>\n",
       "      <td>0.000000</td>\n",
       "      <td>...</td>\n",
       "      <td>0.000000</td>\n",
       "      <td>0.012075</td>\n",
       "      <td>0.01887</td>\n",
       "      <td>0.000000</td>\n",
       "      <td>0.084698</td>\n",
       "      <td>0.015090</td>\n",
       "      <td>0.0</td>\n",
       "      <td>0.030736</td>\n",
       "      <td>0.023047</td>\n",
       "      <td>0.017660</td>\n",
       "    </tr>\n",
       "    <tr>\n",
       "      <th>2</th>\n",
       "      <td>0.00000</td>\n",
       "      <td>0.000000</td>\n",
       "      <td>0.000000</td>\n",
       "      <td>0.0</td>\n",
       "      <td>0.0</td>\n",
       "      <td>0.0</td>\n",
       "      <td>0.000000</td>\n",
       "      <td>0.0</td>\n",
       "      <td>0.0</td>\n",
       "      <td>0.000000</td>\n",
       "      <td>...</td>\n",
       "      <td>0.000000</td>\n",
       "      <td>0.000000</td>\n",
       "      <td>0.00000</td>\n",
       "      <td>0.000000</td>\n",
       "      <td>0.000000</td>\n",
       "      <td>0.000000</td>\n",
       "      <td>0.0</td>\n",
       "      <td>0.000000</td>\n",
       "      <td>0.000000</td>\n",
       "      <td>0.000000</td>\n",
       "    </tr>\n",
       "    <tr>\n",
       "      <th>3</th>\n",
       "      <td>0.03489</td>\n",
       "      <td>0.124067</td>\n",
       "      <td>0.010776</td>\n",
       "      <td>0.0</td>\n",
       "      <td>0.0</td>\n",
       "      <td>0.0</td>\n",
       "      <td>0.021319</td>\n",
       "      <td>0.0</td>\n",
       "      <td>0.0</td>\n",
       "      <td>0.054637</td>\n",
       "      <td>...</td>\n",
       "      <td>0.057295</td>\n",
       "      <td>0.013217</td>\n",
       "      <td>0.00000</td>\n",
       "      <td>0.007125</td>\n",
       "      <td>0.020601</td>\n",
       "      <td>0.008258</td>\n",
       "      <td>0.0</td>\n",
       "      <td>0.000000</td>\n",
       "      <td>0.018920</td>\n",
       "      <td>0.048325</td>\n",
       "    </tr>\n",
       "    <tr>\n",
       "      <th>4</th>\n",
       "      <td>0.00000</td>\n",
       "      <td>0.000000</td>\n",
       "      <td>0.000000</td>\n",
       "      <td>0.0</td>\n",
       "      <td>0.0</td>\n",
       "      <td>0.0</td>\n",
       "      <td>0.000000</td>\n",
       "      <td>0.0</td>\n",
       "      <td>0.0</td>\n",
       "      <td>0.000000</td>\n",
       "      <td>...</td>\n",
       "      <td>0.000000</td>\n",
       "      <td>0.020460</td>\n",
       "      <td>0.00000</td>\n",
       "      <td>0.000000</td>\n",
       "      <td>0.000000</td>\n",
       "      <td>0.000000</td>\n",
       "      <td>0.0</td>\n",
       "      <td>0.000000</td>\n",
       "      <td>0.000000</td>\n",
       "      <td>0.000000</td>\n",
       "    </tr>\n",
       "  </tbody>\n",
       "</table>\n",
       "<p>5 rows × 1000 columns</p>\n",
       "</div>"
      ],
      "text/plain": [
       "   heterogen   densiti    amount  respect  tumor  locat      area  \\\n",
       "0    0.00000  0.000000  0.000000      0.0    0.0    0.0  0.000000   \n",
       "1    0.00000  0.000000  0.000000      0.0    0.0    0.0  0.000000   \n",
       "2    0.00000  0.000000  0.000000      0.0    0.0    0.0  0.000000   \n",
       "3    0.03489  0.124067  0.010776      0.0    0.0    0.0  0.021319   \n",
       "4    0.00000  0.000000  0.000000      0.0    0.0    0.0  0.000000   \n",
       "\n",
       "   significantli  differ    accord  ...       hcc     ablat     circ  \\\n",
       "0            0.0     0.0  0.000000  ...  0.035233  0.000000  0.00000   \n",
       "1            0.0     0.0  0.000000  ...  0.000000  0.012075  0.01887   \n",
       "2            0.0     0.0  0.000000  ...  0.000000  0.000000  0.00000   \n",
       "3            0.0     0.0  0.054637  ...  0.057295  0.013217  0.00000   \n",
       "4            0.0     0.0  0.000000  ...  0.000000  0.020460  0.00000   \n",
       "\n",
       "        atm  scfvmtbhsp   circrna  wait    keloid       chl  uplcesiqtofmsm  \n",
       "0  0.000000    0.000000  0.013543   0.0  0.000000  0.000000        0.000000  \n",
       "1  0.000000    0.084698  0.015090   0.0  0.030736  0.023047        0.017660  \n",
       "2  0.000000    0.000000  0.000000   0.0  0.000000  0.000000        0.000000  \n",
       "3  0.007125    0.020601  0.008258   0.0  0.000000  0.018920        0.048325  \n",
       "4  0.000000    0.000000  0.000000   0.0  0.000000  0.000000        0.000000  \n",
       "\n",
       "[5 rows x 1000 columns]"
      ]
     },
     "execution_count": 7,
     "metadata": {},
     "output_type": "execute_result"
    }
   ],
   "source": [
    "train_vec = pd.DataFrame(train_vec.toarray(), columns=vectorizer.vocabulary_.keys())\n",
    "train_vec.head()"
   ]
  },
  {
   "cell_type": "markdown",
   "metadata": {},
   "source": [
    "Still a lot of features. I'll use recursive feature elimination with a basic decision tree to reduce this to 50."
   ]
  },
  {
   "cell_type": "code",
   "execution_count": 8,
   "metadata": {},
   "outputs": [
    {
     "data": {
      "text/plain": [
       "RFE(estimator=DecisionTreeClassifier(random_state=42), n_features_to_select=50,\n",
       "    step=50)"
      ]
     },
     "execution_count": 8,
     "metadata": {},
     "output_type": "execute_result"
    }
   ],
   "source": [
    "#run rfe\n",
    "tree = DecisionTreeClassifier(random_state=42)\n",
    "selector = RFE(tree, n_features_to_select=50, step=50)\n",
    "selector.fit(train_vec, train.label)"
   ]
  },
  {
   "cell_type": "markdown",
   "metadata": {},
   "source": [
    "Here we can see the final 50 features that have been selected. Each row is a document from the train set. I will use these features to predict the label."
   ]
  },
  {
   "cell_type": "code",
   "execution_count": 9,
   "metadata": {},
   "outputs": [
    {
     "data": {
      "text/html": [
       "<div>\n",
       "<style scoped>\n",
       "    .dataframe tbody tr th:only-of-type {\n",
       "        vertical-align: middle;\n",
       "    }\n",
       "\n",
       "    .dataframe tbody tr th {\n",
       "        vertical-align: top;\n",
       "    }\n",
       "\n",
       "    .dataframe thead th {\n",
       "        text-align: right;\n",
       "    }\n",
       "</style>\n",
       "<table border=\"1\" class=\"dataframe\">\n",
       "  <thead>\n",
       "    <tr style=\"text-align: right;\">\n",
       "      <th></th>\n",
       "      <th>lung</th>\n",
       "      <th>howev</th>\n",
       "      <th>signific</th>\n",
       "      <th>despit</th>\n",
       "      <th>higher</th>\n",
       "      <th>tabl</th>\n",
       "      <th>high</th>\n",
       "      <th>grade</th>\n",
       "      <th>associ</th>\n",
       "      <th>lower</th>\n",
       "      <th>...</th>\n",
       "      <th>accuraci</th>\n",
       "      <th>led</th>\n",
       "      <th>efficaci</th>\n",
       "      <th>period</th>\n",
       "      <th>stabl</th>\n",
       "      <th>coloni</th>\n",
       "      <th>sarscov</th>\n",
       "      <th>nk</th>\n",
       "      <th>ibd</th>\n",
       "      <th>exercis</th>\n",
       "    </tr>\n",
       "  </thead>\n",
       "  <tbody>\n",
       "    <tr>\n",
       "      <th>0</th>\n",
       "      <td>0.000000</td>\n",
       "      <td>0.0</td>\n",
       "      <td>0.000000</td>\n",
       "      <td>0.009236</td>\n",
       "      <td>0.000000</td>\n",
       "      <td>0.0</td>\n",
       "      <td>0.000000</td>\n",
       "      <td>0.0</td>\n",
       "      <td>0.012403</td>\n",
       "      <td>0.000000</td>\n",
       "      <td>...</td>\n",
       "      <td>0.000000</td>\n",
       "      <td>0.000000</td>\n",
       "      <td>0.000000</td>\n",
       "      <td>0.024715</td>\n",
       "      <td>0.0</td>\n",
       "      <td>0.000000</td>\n",
       "      <td>0.000000</td>\n",
       "      <td>0.0</td>\n",
       "      <td>0.000000</td>\n",
       "      <td>0.000000</td>\n",
       "    </tr>\n",
       "    <tr>\n",
       "      <th>1</th>\n",
       "      <td>0.000000</td>\n",
       "      <td>0.0</td>\n",
       "      <td>0.017456</td>\n",
       "      <td>0.030876</td>\n",
       "      <td>0.007472</td>\n",
       "      <td>0.0</td>\n",
       "      <td>0.016232</td>\n",
       "      <td>0.0</td>\n",
       "      <td>0.000000</td>\n",
       "      <td>0.010902</td>\n",
       "      <td>...</td>\n",
       "      <td>0.035404</td>\n",
       "      <td>0.008456</td>\n",
       "      <td>0.000000</td>\n",
       "      <td>0.078027</td>\n",
       "      <td>0.0</td>\n",
       "      <td>0.033445</td>\n",
       "      <td>0.000000</td>\n",
       "      <td>0.0</td>\n",
       "      <td>0.021548</td>\n",
       "      <td>0.000000</td>\n",
       "    </tr>\n",
       "    <tr>\n",
       "      <th>2</th>\n",
       "      <td>0.000000</td>\n",
       "      <td>0.0</td>\n",
       "      <td>0.000000</td>\n",
       "      <td>0.030571</td>\n",
       "      <td>0.000000</td>\n",
       "      <td>0.0</td>\n",
       "      <td>0.000000</td>\n",
       "      <td>0.0</td>\n",
       "      <td>0.000000</td>\n",
       "      <td>0.000000</td>\n",
       "      <td>...</td>\n",
       "      <td>0.000000</td>\n",
       "      <td>0.000000</td>\n",
       "      <td>0.000000</td>\n",
       "      <td>0.027268</td>\n",
       "      <td>0.0</td>\n",
       "      <td>0.000000</td>\n",
       "      <td>0.000000</td>\n",
       "      <td>0.0</td>\n",
       "      <td>0.000000</td>\n",
       "      <td>0.000000</td>\n",
       "    </tr>\n",
       "    <tr>\n",
       "      <th>3</th>\n",
       "      <td>0.061663</td>\n",
       "      <td>0.0</td>\n",
       "      <td>0.000000</td>\n",
       "      <td>0.107017</td>\n",
       "      <td>0.008179</td>\n",
       "      <td>0.0</td>\n",
       "      <td>0.000000</td>\n",
       "      <td>0.0</td>\n",
       "      <td>0.068071</td>\n",
       "      <td>0.000000</td>\n",
       "      <td>...</td>\n",
       "      <td>0.000000</td>\n",
       "      <td>0.000000</td>\n",
       "      <td>0.010631</td>\n",
       "      <td>0.020095</td>\n",
       "      <td>0.0</td>\n",
       "      <td>0.000000</td>\n",
       "      <td>0.010145</td>\n",
       "      <td>0.0</td>\n",
       "      <td>0.029482</td>\n",
       "      <td>0.050725</td>\n",
       "    </tr>\n",
       "    <tr>\n",
       "      <th>4</th>\n",
       "      <td>0.000000</td>\n",
       "      <td>0.0</td>\n",
       "      <td>0.000000</td>\n",
       "      <td>0.061036</td>\n",
       "      <td>0.000000</td>\n",
       "      <td>0.0</td>\n",
       "      <td>0.000000</td>\n",
       "      <td>0.0</td>\n",
       "      <td>0.000000</td>\n",
       "      <td>0.000000</td>\n",
       "      <td>...</td>\n",
       "      <td>0.000000</td>\n",
       "      <td>0.000000</td>\n",
       "      <td>0.000000</td>\n",
       "      <td>0.015554</td>\n",
       "      <td>0.0</td>\n",
       "      <td>0.028334</td>\n",
       "      <td>0.000000</td>\n",
       "      <td>0.0</td>\n",
       "      <td>0.000000</td>\n",
       "      <td>0.062820</td>\n",
       "    </tr>\n",
       "  </tbody>\n",
       "</table>\n",
       "<p>5 rows × 50 columns</p>\n",
       "</div>"
      ],
      "text/plain": [
       "       lung  howev  signific    despit    higher  tabl      high  grade  \\\n",
       "0  0.000000    0.0  0.000000  0.009236  0.000000   0.0  0.000000    0.0   \n",
       "1  0.000000    0.0  0.017456  0.030876  0.007472   0.0  0.016232    0.0   \n",
       "2  0.000000    0.0  0.000000  0.030571  0.000000   0.0  0.000000    0.0   \n",
       "3  0.061663    0.0  0.000000  0.107017  0.008179   0.0  0.000000    0.0   \n",
       "4  0.000000    0.0  0.000000  0.061036  0.000000   0.0  0.000000    0.0   \n",
       "\n",
       "     associ     lower  ...  accuraci       led  efficaci    period  stabl  \\\n",
       "0  0.012403  0.000000  ...  0.000000  0.000000  0.000000  0.024715    0.0   \n",
       "1  0.000000  0.010902  ...  0.035404  0.008456  0.000000  0.078027    0.0   \n",
       "2  0.000000  0.000000  ...  0.000000  0.000000  0.000000  0.027268    0.0   \n",
       "3  0.068071  0.000000  ...  0.000000  0.000000  0.010631  0.020095    0.0   \n",
       "4  0.000000  0.000000  ...  0.000000  0.000000  0.000000  0.015554    0.0   \n",
       "\n",
       "     coloni   sarscov   nk       ibd   exercis  \n",
       "0  0.000000  0.000000  0.0  0.000000  0.000000  \n",
       "1  0.033445  0.000000  0.0  0.021548  0.000000  \n",
       "2  0.000000  0.000000  0.0  0.000000  0.000000  \n",
       "3  0.000000  0.010145  0.0  0.029482  0.050725  \n",
       "4  0.028334  0.000000  0.0  0.000000  0.062820  \n",
       "\n",
       "[5 rows x 50 columns]"
      ]
     },
     "execution_count": 9,
     "metadata": {},
     "output_type": "execute_result"
    }
   ],
   "source": [
    "final_train = train_vec.loc[:, selector.support_]\n",
    "final_train.head()"
   ]
  },
  {
   "cell_type": "code",
   "execution_count": 10,
   "metadata": {},
   "outputs": [],
   "source": [
    "le = LabelEncoder()\n",
    "y_train = le.fit_transform(train.label)"
   ]
  },
  {
   "cell_type": "markdown",
   "metadata": {},
   "source": [
    "First, let's establish a baseline accuracy. The baseline will be calculated by predicting the most prevalent class every time."
   ]
  },
  {
   "cell_type": "code",
   "execution_count": 11,
   "metadata": {},
   "outputs": [
    {
     "data": {
      "text/plain": [
       "Lung_Cancer       316\n",
       "Thyroid_Cancer    198\n",
       "Colon_Cancer      183\n",
       "Name: label, dtype: int64"
      ]
     },
     "execution_count": 11,
     "metadata": {},
     "output_type": "execute_result"
    }
   ],
   "source": [
    "train.label.value_counts()"
   ]
  },
  {
   "cell_type": "code",
   "execution_count": 12,
   "metadata": {},
   "outputs": [
    {
     "data": {
      "text/plain": [
       "45.34"
      ]
     },
     "execution_count": 12,
     "metadata": {},
     "output_type": "execute_result"
    }
   ],
   "source": [
    "round(train.label.value_counts().max() / train.label.value_counts().sum() * 100, 2)"
   ]
  },
  {
   "cell_type": "markdown",
   "metadata": {},
   "source": [
    "Our baseline accuracy is about 45% when guessing the most prevalent class (Lung_Cancer) for every document. Let's see if we can beat that baseline with an xgboost model with all default parameters."
   ]
  },
  {
   "cell_type": "code",
   "execution_count": 13,
   "metadata": {},
   "outputs": [
    {
     "data": {
      "text/plain": [
       "XGBClassifier(base_score=None, booster=None, callbacks=None,\n",
       "              colsample_bylevel=None, colsample_bynode=None,\n",
       "              colsample_bytree=None, device=None, early_stopping_rounds=None,\n",
       "              enable_categorical=False, eval_metric=None, feature_types=None,\n",
       "              gamma=None, grow_policy=None, importance_type=None,\n",
       "              interaction_constraints=None, learning_rate=None, max_bin=None,\n",
       "              max_cat_threshold=None, max_cat_to_onehot=None,\n",
       "              max_delta_step=None, max_depth=None, max_leaves=None,\n",
       "              min_child_weight=None, missing=nan, monotone_constraints=None,\n",
       "              multi_strategy=None, n_estimators=None, n_jobs=None,\n",
       "              num_parallel_tree=None, objective='multi:softprob', ...)"
      ]
     },
     "execution_count": 13,
     "metadata": {},
     "output_type": "execute_result"
    }
   ],
   "source": [
    "clf = XGBClassifier(random_state=42)\n",
    "clf.fit(final_train, y_train)"
   ]
  },
  {
   "cell_type": "code",
   "execution_count": 14,
   "metadata": {},
   "outputs": [
    {
     "data": {
      "text/plain": [
       "1.0"
      ]
     },
     "execution_count": 14,
     "metadata": {},
     "output_type": "execute_result"
    }
   ],
   "source": [
    "clf.score(final_train, y_train)"
   ]
  },
  {
   "cell_type": "markdown",
   "metadata": {},
   "source": [
    "Perfect accuracy on the train dataset.. I'm concerned. Let's prepare the validate dataset the same way as train, and see how our model fares on unseen data."
   ]
  },
  {
   "cell_type": "code",
   "execution_count": 15,
   "metadata": {},
   "outputs": [
    {
     "data": {
      "text/html": [
       "<div>\n",
       "<style scoped>\n",
       "    .dataframe tbody tr th:only-of-type {\n",
       "        vertical-align: middle;\n",
       "    }\n",
       "\n",
       "    .dataframe tbody tr th {\n",
       "        vertical-align: top;\n",
       "    }\n",
       "\n",
       "    .dataframe thead th {\n",
       "        text-align: right;\n",
       "    }\n",
       "</style>\n",
       "<table border=\"1\" class=\"dataframe\">\n",
       "  <thead>\n",
       "    <tr style=\"text-align: right;\">\n",
       "      <th></th>\n",
       "      <th>lung</th>\n",
       "      <th>howev</th>\n",
       "      <th>signific</th>\n",
       "      <th>despit</th>\n",
       "      <th>higher</th>\n",
       "      <th>tabl</th>\n",
       "      <th>high</th>\n",
       "      <th>grade</th>\n",
       "      <th>associ</th>\n",
       "      <th>lower</th>\n",
       "      <th>...</th>\n",
       "      <th>accuraci</th>\n",
       "      <th>led</th>\n",
       "      <th>efficaci</th>\n",
       "      <th>period</th>\n",
       "      <th>stabl</th>\n",
       "      <th>coloni</th>\n",
       "      <th>sarscov</th>\n",
       "      <th>nk</th>\n",
       "      <th>ibd</th>\n",
       "      <th>exercis</th>\n",
       "    </tr>\n",
       "  </thead>\n",
       "  <tbody>\n",
       "    <tr>\n",
       "      <th>0</th>\n",
       "      <td>0.042803</td>\n",
       "      <td>0.016390</td>\n",
       "      <td>0.000000</td>\n",
       "      <td>0.045614</td>\n",
       "      <td>0.000000</td>\n",
       "      <td>0.000000</td>\n",
       "      <td>0.000000</td>\n",
       "      <td>0.000000</td>\n",
       "      <td>0.024501</td>\n",
       "      <td>0.000000</td>\n",
       "      <td>...</td>\n",
       "      <td>0.0</td>\n",
       "      <td>0.014991</td>\n",
       "      <td>0.000000</td>\n",
       "      <td>0.016274</td>\n",
       "      <td>0.000000</td>\n",
       "      <td>0.000000</td>\n",
       "      <td>0.000000</td>\n",
       "      <td>0.000000</td>\n",
       "      <td>0.000000</td>\n",
       "      <td>0.000000</td>\n",
       "    </tr>\n",
       "    <tr>\n",
       "      <th>1</th>\n",
       "      <td>0.000000</td>\n",
       "      <td>0.000000</td>\n",
       "      <td>0.000000</td>\n",
       "      <td>0.017168</td>\n",
       "      <td>0.006232</td>\n",
       "      <td>0.016514</td>\n",
       "      <td>0.006769</td>\n",
       "      <td>0.030325</td>\n",
       "      <td>0.000000</td>\n",
       "      <td>0.063650</td>\n",
       "      <td>...</td>\n",
       "      <td>0.0</td>\n",
       "      <td>0.000000</td>\n",
       "      <td>0.008101</td>\n",
       "      <td>0.099532</td>\n",
       "      <td>0.000000</td>\n",
       "      <td>0.009298</td>\n",
       "      <td>0.015461</td>\n",
       "      <td>0.012204</td>\n",
       "      <td>0.000000</td>\n",
       "      <td>0.000000</td>\n",
       "    </tr>\n",
       "    <tr>\n",
       "      <th>2</th>\n",
       "      <td>0.000000</td>\n",
       "      <td>0.000000</td>\n",
       "      <td>0.000000</td>\n",
       "      <td>0.009706</td>\n",
       "      <td>0.000000</td>\n",
       "      <td>0.000000</td>\n",
       "      <td>0.000000</td>\n",
       "      <td>0.000000</td>\n",
       "      <td>0.104273</td>\n",
       "      <td>0.000000</td>\n",
       "      <td>...</td>\n",
       "      <td>0.0</td>\n",
       "      <td>0.000000</td>\n",
       "      <td>0.000000</td>\n",
       "      <td>0.069260</td>\n",
       "      <td>0.000000</td>\n",
       "      <td>0.094626</td>\n",
       "      <td>0.000000</td>\n",
       "      <td>0.000000</td>\n",
       "      <td>0.020322</td>\n",
       "      <td>0.000000</td>\n",
       "    </tr>\n",
       "    <tr>\n",
       "      <th>3</th>\n",
       "      <td>0.000000</td>\n",
       "      <td>0.033239</td>\n",
       "      <td>0.000000</td>\n",
       "      <td>0.009250</td>\n",
       "      <td>0.000000</td>\n",
       "      <td>0.000000</td>\n",
       "      <td>0.000000</td>\n",
       "      <td>0.000000</td>\n",
       "      <td>0.000000</td>\n",
       "      <td>0.039195</td>\n",
       "      <td>...</td>\n",
       "      <td>0.0</td>\n",
       "      <td>0.000000</td>\n",
       "      <td>0.017459</td>\n",
       "      <td>0.024752</td>\n",
       "      <td>0.000000</td>\n",
       "      <td>0.010020</td>\n",
       "      <td>0.000000</td>\n",
       "      <td>0.000000</td>\n",
       "      <td>0.038734</td>\n",
       "      <td>0.000000</td>\n",
       "    </tr>\n",
       "    <tr>\n",
       "      <th>4</th>\n",
       "      <td>0.000000</td>\n",
       "      <td>0.000000</td>\n",
       "      <td>0.175127</td>\n",
       "      <td>0.014750</td>\n",
       "      <td>0.000000</td>\n",
       "      <td>0.000000</td>\n",
       "      <td>0.000000</td>\n",
       "      <td>0.000000</td>\n",
       "      <td>0.000000</td>\n",
       "      <td>0.000000</td>\n",
       "      <td>...</td>\n",
       "      <td>0.0</td>\n",
       "      <td>0.000000</td>\n",
       "      <td>0.000000</td>\n",
       "      <td>0.000000</td>\n",
       "      <td>0.058562</td>\n",
       "      <td>0.047933</td>\n",
       "      <td>0.000000</td>\n",
       "      <td>0.000000</td>\n",
       "      <td>0.000000</td>\n",
       "      <td>0.079703</td>\n",
       "    </tr>\n",
       "  </tbody>\n",
       "</table>\n",
       "<p>5 rows × 50 columns</p>\n",
       "</div>"
      ],
      "text/plain": [
       "       lung     howev  signific    despit    higher      tabl      high  \\\n",
       "0  0.042803  0.016390  0.000000  0.045614  0.000000  0.000000  0.000000   \n",
       "1  0.000000  0.000000  0.000000  0.017168  0.006232  0.016514  0.006769   \n",
       "2  0.000000  0.000000  0.000000  0.009706  0.000000  0.000000  0.000000   \n",
       "3  0.000000  0.033239  0.000000  0.009250  0.000000  0.000000  0.000000   \n",
       "4  0.000000  0.000000  0.175127  0.014750  0.000000  0.000000  0.000000   \n",
       "\n",
       "      grade    associ     lower  ...  accuraci       led  efficaci    period  \\\n",
       "0  0.000000  0.024501  0.000000  ...       0.0  0.014991  0.000000  0.016274   \n",
       "1  0.030325  0.000000  0.063650  ...       0.0  0.000000  0.008101  0.099532   \n",
       "2  0.000000  0.104273  0.000000  ...       0.0  0.000000  0.000000  0.069260   \n",
       "3  0.000000  0.000000  0.039195  ...       0.0  0.000000  0.017459  0.024752   \n",
       "4  0.000000  0.000000  0.000000  ...       0.0  0.000000  0.000000  0.000000   \n",
       "\n",
       "      stabl    coloni   sarscov        nk       ibd   exercis  \n",
       "0  0.000000  0.000000  0.000000  0.000000  0.000000  0.000000  \n",
       "1  0.000000  0.009298  0.015461  0.012204  0.000000  0.000000  \n",
       "2  0.000000  0.094626  0.000000  0.000000  0.020322  0.000000  \n",
       "3  0.000000  0.010020  0.000000  0.000000  0.038734  0.000000  \n",
       "4  0.058562  0.047933  0.000000  0.000000  0.000000  0.079703  \n",
       "\n",
       "[5 rows x 50 columns]"
      ]
     },
     "execution_count": 15,
     "metadata": {},
     "output_type": "execute_result"
    }
   ],
   "source": [
    "val_vec = vectorizer.transform(val.text)\n",
    "val_vec = pd.DataFrame(val_vec.toarray(), columns=vectorizer.vocabulary_.keys())\n",
    "final_val = val_vec.loc[:, selector.support_]\n",
    "final_val.head()"
   ]
  },
  {
   "cell_type": "code",
   "execution_count": 16,
   "metadata": {},
   "outputs": [],
   "source": [
    "y_val = le.transform(val.label)"
   ]
  },
  {
   "cell_type": "markdown",
   "metadata": {},
   "source": [
    "Now that our validate dataset has been prepared in the same manner as train, it can be used to generate predictions from our trained model."
   ]
  },
  {
   "cell_type": "code",
   "execution_count": 17,
   "metadata": {},
   "outputs": [
    {
     "data": {
      "text/plain": [
       "0.8662207357859532"
      ]
     },
     "execution_count": 17,
     "metadata": {},
     "output_type": "execute_result"
    }
   ],
   "source": [
    "clf.score(final_val, y_val)"
   ]
  },
  {
   "cell_type": "markdown",
   "metadata": {},
   "source": [
    "Over 86% accuracy! This is a great start for the project. We have almost doubled the baseline accuracy (45%). This proves the project has merit, and future feature selection / model fine-tuning could improve the result. Now, the goal is to pickle this model and make it callable from the command line."
   ]
  },
  {
   "cell_type": "code",
   "execution_count": 19,
   "metadata": {},
   "outputs": [],
   "source": [
    "with open('xgb.pickle', 'wb') as f:\n",
    "    pickle.dump(clf, f, pickle.HIGHEST_PROTOCOL)"
   ]
  },
  {
   "cell_type": "markdown",
   "metadata": {},
   "source": [
    "I will also need to pickle the vectorizer, so it can be used to prepare the text data of future articles."
   ]
  },
  {
   "cell_type": "code",
   "execution_count": 20,
   "metadata": {},
   "outputs": [],
   "source": [
    "with open('vec.pickle', 'wb') as f:\n",
    "    pickle.dump(vectorizer, f, pickle.HIGHEST_PROTOCOL)"
   ]
  },
  {
   "cell_type": "markdown",
   "metadata": {},
   "source": [
    "I had an idea. I may need my label encoder as well. This object will help me get back the human-readable labels that are predicted by my model."
   ]
  },
  {
   "cell_type": "code",
   "execution_count": 21,
   "metadata": {},
   "outputs": [],
   "source": [
    "with open('enc.pickle', 'wb') as f:\n",
    "    pickle.dump(le, f, pickle.HIGHEST_PROTOCOL)"
   ]
  },
  {
   "cell_type": "code",
   "execution_count": 30,
   "metadata": {},
   "outputs": [],
   "source": [
    "with open('feature_list.json', 'w') as f:\n",
    "    json.dump(selector.support_.tolist(), f)"
   ]
  },
  {
   "cell_type": "code",
   "execution_count": null,
   "metadata": {},
   "outputs": [],
   "source": []
  }
 ],
 "metadata": {
  "kernelspec": {
   "display_name": "base",
   "language": "python",
   "name": "python3"
  },
  "language_info": {
   "codemirror_mode": {
    "name": "ipython",
    "version": 3
   },
   "file_extension": ".py",
   "mimetype": "text/x-python",
   "name": "python",
   "nbconvert_exporter": "python",
   "pygments_lexer": "ipython3",
   "version": "3.8.5"
  }
 },
 "nbformat": 4,
 "nbformat_minor": 2
}
