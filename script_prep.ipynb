{
 "cells": [
  {
   "cell_type": "markdown",
   "metadata": {},
   "source": [
    "The purpose of this document is to prepare all the work I've done to be put in a script. I can think of the following steps:\n",
    "- create dummy data (5 observations from original dataset in csv)\n",
    "- function to clean data\n",
    "- ensure all [pickled](https://docs.python.org/3/library/pickle.html#examples) models perform properly\n",
    "- function to vectorize data\n",
    "- function to get predictions from model\n",
    "- make it possible to call script from command line with [argparse](https://docs.python.org/3/library/argparse.html#example)"
   ]
  },
  {
   "cell_type": "code",
   "execution_count": 38,
   "metadata": {},
   "outputs": [],
   "source": [
    "import argparse\n",
    "import json\n",
    "import pandas as pd\n",
    "import pickle\n",
    "import regex as re\n",
    "from nltk.corpus import stopwords\n",
    "from nltk.stem.porter import PorterStemmer\n",
    "from nltk.tokenize import word_tokenize"
   ]
  },
  {
   "cell_type": "markdown",
   "metadata": {},
   "source": [
    "The first step is to create dummy data. Let's get on that."
   ]
  },
  {
   "cell_type": "code",
   "execution_count": 3,
   "metadata": {},
   "outputs": [
    {
     "data": {
      "text/html": [
       "<div>\n",
       "<style scoped>\n",
       "    .dataframe tbody tr th:only-of-type {\n",
       "        vertical-align: middle;\n",
       "    }\n",
       "\n",
       "    .dataframe tbody tr th {\n",
       "        vertical-align: top;\n",
       "    }\n",
       "\n",
       "    .dataframe thead th {\n",
       "        text-align: right;\n",
       "    }\n",
       "</style>\n",
       "<table border=\"1\" class=\"dataframe\">\n",
       "  <thead>\n",
       "    <tr style=\"text-align: right;\">\n",
       "      <th></th>\n",
       "      <th>0</th>\n",
       "      <th>a</th>\n",
       "    </tr>\n",
       "  </thead>\n",
       "  <tbody>\n",
       "    <tr>\n",
       "      <th>0</th>\n",
       "      <td>Thyroid_Cancer</td>\n",
       "      <td>Thyroid surgery in  children in a single insti...</td>\n",
       "    </tr>\n",
       "    <tr>\n",
       "      <th>1</th>\n",
       "      <td>Thyroid_Cancer</td>\n",
       "      <td>\" The adopted strategy was the same as that us...</td>\n",
       "    </tr>\n",
       "    <tr>\n",
       "      <th>2</th>\n",
       "      <td>Thyroid_Cancer</td>\n",
       "      <td>coronary arterybypass grafting thrombosis Ô¨Åb...</td>\n",
       "    </tr>\n",
       "    <tr>\n",
       "      <th>3</th>\n",
       "      <td>Thyroid_Cancer</td>\n",
       "      <td>Solitary plasmacytoma SP of the skull is an u...</td>\n",
       "    </tr>\n",
       "    <tr>\n",
       "      <th>4</th>\n",
       "      <td>Thyroid_Cancer</td>\n",
       "      <td>This study aimed to investigate serum matrix ...</td>\n",
       "    </tr>\n",
       "  </tbody>\n",
       "</table>\n",
       "</div>"
      ],
      "text/plain": [
       "                0                                                  a\n",
       "0  Thyroid_Cancer  Thyroid surgery in  children in a single insti...\n",
       "1  Thyroid_Cancer  \" The adopted strategy was the same as that us...\n",
       "2  Thyroid_Cancer  coronary arterybypass grafting thrombosis Ô¨Åb...\n",
       "3  Thyroid_Cancer   Solitary plasmacytoma SP of the skull is an u...\n",
       "4  Thyroid_Cancer   This study aimed to investigate serum matrix ..."
      ]
     },
     "execution_count": 3,
     "metadata": {},
     "output_type": "execute_result"
    }
   ],
   "source": [
    "df = pd.read_csv('alldata_1_for_kaggle.csv', encoding='MacRoman', index_col=0)\n",
    "df.head()"
   ]
  },
  {
   "cell_type": "markdown",
   "metadata": {},
   "source": [
    "I'll take the first five instances and save them to a csv without the label information attached. For the record, all model predictions should hopefully be thyroid cancer."
   ]
  },
  {
   "cell_type": "code",
   "execution_count": 6,
   "metadata": {},
   "outputs": [
    {
     "data": {
      "text/plain": [
       "0    Thyroid surgery in  children in a single insti...\n",
       "1    \" The adopted strategy was the same as that us...\n",
       "2    coronary arterybypass grafting thrombosis Ô¨Åb...\n",
       "3     Solitary plasmacytoma SP of the skull is an u...\n",
       "4     This study aimed to investigate serum matrix ...\n",
       "Name: a, dtype: object"
      ]
     },
     "execution_count": 6,
     "metadata": {},
     "output_type": "execute_result"
    }
   ],
   "source": [
    "dummy_data = df.a[:5]\n",
    "dummy_data"
   ]
  },
  {
   "cell_type": "code",
   "execution_count": 7,
   "metadata": {},
   "outputs": [],
   "source": [
    "dummy_data.to_csv('dummy_data.csv')"
   ]
  },
  {
   "cell_type": "code",
   "execution_count": 13,
   "metadata": {},
   "outputs": [
    {
     "data": {
      "text/html": [
       "<div>\n",
       "<style scoped>\n",
       "    .dataframe tbody tr th:only-of-type {\n",
       "        vertical-align: middle;\n",
       "    }\n",
       "\n",
       "    .dataframe tbody tr th {\n",
       "        vertical-align: top;\n",
       "    }\n",
       "\n",
       "    .dataframe thead th {\n",
       "        text-align: right;\n",
       "    }\n",
       "</style>\n",
       "<table border=\"1\" class=\"dataframe\">\n",
       "  <thead>\n",
       "    <tr style=\"text-align: right;\">\n",
       "      <th></th>\n",
       "      <th>a</th>\n",
       "    </tr>\n",
       "  </thead>\n",
       "  <tbody>\n",
       "    <tr>\n",
       "      <th>0</th>\n",
       "      <td>Thyroid surgery in  children in a single insti...</td>\n",
       "    </tr>\n",
       "    <tr>\n",
       "      <th>1</th>\n",
       "      <td>\" The adopted strategy was the same as that us...</td>\n",
       "    </tr>\n",
       "    <tr>\n",
       "      <th>2</th>\n",
       "      <td>coronary arterybypass grafting thrombosis √î¬®...</td>\n",
       "    </tr>\n",
       "    <tr>\n",
       "      <th>3</th>\n",
       "      <td>Solitary plasmacytoma SP of the skull is an u...</td>\n",
       "    </tr>\n",
       "    <tr>\n",
       "      <th>4</th>\n",
       "      <td>This study aimed to investigate serum matrix ...</td>\n",
       "    </tr>\n",
       "  </tbody>\n",
       "</table>\n",
       "</div>"
      ],
      "text/plain": [
       "                                                   a\n",
       "0  Thyroid surgery in  children in a single insti...\n",
       "1  \" The adopted strategy was the same as that us...\n",
       "2  coronary arterybypass grafting thrombosis √î¬®...\n",
       "3   Solitary plasmacytoma SP of the skull is an u...\n",
       "4   This study aimed to investigate serum matrix ..."
      ]
     },
     "execution_count": 13,
     "metadata": {},
     "output_type": "execute_result"
    }
   ],
   "source": [
    "dd = pd.read_csv('dummy_data.csv', encoding='MacRoman', index_col=0)\n",
    "dd"
   ]
  },
  {
   "cell_type": "markdown",
   "metadata": {},
   "source": [
    "Success. Now I need to incorporate work done in previous notebooks to prepare the text data."
   ]
  },
  {
   "cell_type": "code",
   "execution_count": 31,
   "metadata": {},
   "outputs": [],
   "source": [
    "def clean_text(df):\n",
    "    col = df.columns[0]\n",
    "    regexp = r\"[^a-zA-Z\\s']\"\n",
    "    df = df[col].str.replace(regexp, \"\", regex=True)\n",
    "    df = df.str.lower()\n",
    "\n",
    "    return df"
   ]
  },
  {
   "cell_type": "code",
   "execution_count": 34,
   "metadata": {},
   "outputs": [
    {
     "data": {
      "text/plain": [
       "0    thyroid surgery in  children in a single insti...\n",
       "1     the adopted strategy was the same as that use...\n",
       "2    coronary arterybypass grafting thrombosis brin...\n",
       "3     solitary plasmacytoma sp of the skull is an u...\n",
       "4     this study aimed to investigate serum matrix ...\n",
       "Name: a, dtype: object"
      ]
     },
     "execution_count": 34,
     "metadata": {},
     "output_type": "execute_result"
    }
   ],
   "source": [
    "dd = clean_text(dd)\n",
    "dd"
   ]
  },
  {
   "cell_type": "markdown",
   "metadata": {},
   "source": [
    "Special characters are removed and all text is lowercase. Let's remove stopwords and stem the words using the function written in cleanup.ipynb. It may look slightly different because we are working with a series instead of a dataframe."
   ]
  },
  {
   "cell_type": "code",
   "execution_count": 35,
   "metadata": {},
   "outputs": [],
   "source": [
    "unpacked_stopwords = stopwords.words('english')\n",
    "ps = PorterStemmer()\n",
    "\n",
    "def remove_stopwords(article, stopword_list=unpacked_stopwords, stemmer=ps):\n",
    "\n",
    "    tok_article = word_tokenize(article)\n",
    "    approved_words = []\n",
    "\n",
    "    for word in tok_article:\n",
    "        if word in stopword_list:\n",
    "            continue\n",
    "        else:\n",
    "            stem = stemmer.stem(word)\n",
    "            approved_words.append(stem)\n",
    "\n",
    "    return \" \".join(approved_words)"
   ]
  },
  {
   "cell_type": "code",
   "execution_count": 37,
   "metadata": {},
   "outputs": [
    {
     "data": {
      "text/plain": [
       "0    thyroid surgeri children singl institut osama ...\n",
       "1    adopt strategi use prior year base four exclus...\n",
       "2    coronari arterybypass graft thrombosi brin bri...\n",
       "3    solitari plasmacytoma sp skull uncommon clinic...\n",
       "4    studi aim investig serum matrix metalloprotein...\n",
       "Name: a, dtype: object"
      ]
     },
     "execution_count": 37,
     "metadata": {},
     "output_type": "execute_result"
    }
   ],
   "source": [
    "dd = dd.apply(remove_stopwords)\n",
    "dd"
   ]
  },
  {
   "cell_type": "markdown",
   "metadata": {},
   "source": [
    "Great. Let's transform these features using the vectorizer fit to our data in the preproc notebook.\n",
    "\n",
    "Note: at this point, I realize I need to get the selector.support_ list of columns from the notebook. I'll find a way to get this list saved as a json object and read into this notebook."
   ]
  },
  {
   "cell_type": "code",
   "execution_count": 39,
   "metadata": {},
   "outputs": [],
   "source": [
    "with open('feature_list.json', 'r') as f:\n",
    "    col_bools = json.load(f)    "
   ]
  },
  {
   "cell_type": "code",
   "execution_count": 41,
   "metadata": {},
   "outputs": [],
   "source": [
    "with open('vec.pickle', 'rb') as f:\n",
    "    vectorizer = pickle.load(f)"
   ]
  },
  {
   "cell_type": "code",
   "execution_count": 42,
   "metadata": {},
   "outputs": [],
   "source": [
    "def create_features(df, vec=vectorizer, cols=col_bools):\n",
    "    \n",
    "    df_vec = vec.transform(df)\n",
    "    df_vec = pd.DataFrame(df_vec.toarray(), columns=vec.vocabulary_.keys())\n",
    "    \n",
    "    return df_vec.loc[:, cols]"
   ]
  },
  {
   "cell_type": "code",
   "execution_count": 44,
   "metadata": {},
   "outputs": [
    {
     "data": {
      "text/html": [
       "<div>\n",
       "<style scoped>\n",
       "    .dataframe tbody tr th:only-of-type {\n",
       "        vertical-align: middle;\n",
       "    }\n",
       "\n",
       "    .dataframe tbody tr th {\n",
       "        vertical-align: top;\n",
       "    }\n",
       "\n",
       "    .dataframe thead th {\n",
       "        text-align: right;\n",
       "    }\n",
       "</style>\n",
       "<table border=\"1\" class=\"dataframe\">\n",
       "  <thead>\n",
       "    <tr style=\"text-align: right;\">\n",
       "      <th></th>\n",
       "      <th>lung</th>\n",
       "      <th>howev</th>\n",
       "      <th>signific</th>\n",
       "      <th>despit</th>\n",
       "      <th>higher</th>\n",
       "      <th>tabl</th>\n",
       "      <th>high</th>\n",
       "      <th>grade</th>\n",
       "      <th>associ</th>\n",
       "      <th>lower</th>\n",
       "      <th>...</th>\n",
       "      <th>accuraci</th>\n",
       "      <th>led</th>\n",
       "      <th>efficaci</th>\n",
       "      <th>period</th>\n",
       "      <th>stabl</th>\n",
       "      <th>coloni</th>\n",
       "      <th>sarscov</th>\n",
       "      <th>nk</th>\n",
       "      <th>ibd</th>\n",
       "      <th>exercis</th>\n",
       "    </tr>\n",
       "  </thead>\n",
       "  <tbody>\n",
       "    <tr>\n",
       "      <th>0</th>\n",
       "      <td>0.000000</td>\n",
       "      <td>0.000000</td>\n",
       "      <td>0.0</td>\n",
       "      <td>0.000000</td>\n",
       "      <td>0.00000</td>\n",
       "      <td>0.0</td>\n",
       "      <td>0.000000</td>\n",
       "      <td>0.0</td>\n",
       "      <td>0.125068</td>\n",
       "      <td>0.000000</td>\n",
       "      <td>...</td>\n",
       "      <td>0.000000</td>\n",
       "      <td>0.0</td>\n",
       "      <td>0.000000</td>\n",
       "      <td>0.009230</td>\n",
       "      <td>0.0</td>\n",
       "      <td>0.016814</td>\n",
       "      <td>0.717622</td>\n",
       "      <td>0.000000</td>\n",
       "      <td>0.000000</td>\n",
       "      <td>0.0</td>\n",
       "    </tr>\n",
       "    <tr>\n",
       "      <th>1</th>\n",
       "      <td>0.000000</td>\n",
       "      <td>0.013307</td>\n",
       "      <td>0.0</td>\n",
       "      <td>0.007407</td>\n",
       "      <td>0.02151</td>\n",
       "      <td>0.0</td>\n",
       "      <td>0.011682</td>\n",
       "      <td>0.0</td>\n",
       "      <td>0.039784</td>\n",
       "      <td>0.047076</td>\n",
       "      <td>...</td>\n",
       "      <td>0.000000</td>\n",
       "      <td>0.0</td>\n",
       "      <td>0.000000</td>\n",
       "      <td>0.000000</td>\n",
       "      <td>0.0</td>\n",
       "      <td>0.048138</td>\n",
       "      <td>0.026682</td>\n",
       "      <td>0.000000</td>\n",
       "      <td>0.015507</td>\n",
       "      <td>0.0</td>\n",
       "    </tr>\n",
       "    <tr>\n",
       "      <th>2</th>\n",
       "      <td>0.017623</td>\n",
       "      <td>0.000000</td>\n",
       "      <td>0.0</td>\n",
       "      <td>0.033805</td>\n",
       "      <td>0.00000</td>\n",
       "      <td>0.0</td>\n",
       "      <td>0.000000</td>\n",
       "      <td>0.0</td>\n",
       "      <td>0.166444</td>\n",
       "      <td>0.000000</td>\n",
       "      <td>...</td>\n",
       "      <td>0.019381</td>\n",
       "      <td>0.0</td>\n",
       "      <td>0.021267</td>\n",
       "      <td>0.040202</td>\n",
       "      <td>0.0</td>\n",
       "      <td>0.000000</td>\n",
       "      <td>0.020296</td>\n",
       "      <td>0.160208</td>\n",
       "      <td>0.011796</td>\n",
       "      <td>0.0</td>\n",
       "    </tr>\n",
       "    <tr>\n",
       "      <th>3</th>\n",
       "      <td>0.020770</td>\n",
       "      <td>0.000000</td>\n",
       "      <td>0.0</td>\n",
       "      <td>0.000000</td>\n",
       "      <td>0.00000</td>\n",
       "      <td>0.0</td>\n",
       "      <td>0.000000</td>\n",
       "      <td>0.0</td>\n",
       "      <td>0.053500</td>\n",
       "      <td>0.000000</td>\n",
       "      <td>...</td>\n",
       "      <td>0.000000</td>\n",
       "      <td>0.0</td>\n",
       "      <td>0.000000</td>\n",
       "      <td>0.094762</td>\n",
       "      <td>0.0</td>\n",
       "      <td>0.000000</td>\n",
       "      <td>0.023920</td>\n",
       "      <td>0.000000</td>\n",
       "      <td>0.041708</td>\n",
       "      <td>0.0</td>\n",
       "    </tr>\n",
       "    <tr>\n",
       "      <th>4</th>\n",
       "      <td>0.000000</td>\n",
       "      <td>0.000000</td>\n",
       "      <td>0.0</td>\n",
       "      <td>0.000000</td>\n",
       "      <td>0.00000</td>\n",
       "      <td>0.0</td>\n",
       "      <td>0.006535</td>\n",
       "      <td>0.0</td>\n",
       "      <td>0.050074</td>\n",
       "      <td>0.000000</td>\n",
       "      <td>...</td>\n",
       "      <td>0.007126</td>\n",
       "      <td>0.0</td>\n",
       "      <td>0.000000</td>\n",
       "      <td>0.022173</td>\n",
       "      <td>0.0</td>\n",
       "      <td>0.000000</td>\n",
       "      <td>0.291049</td>\n",
       "      <td>0.000000</td>\n",
       "      <td>0.004337</td>\n",
       "      <td>0.0</td>\n",
       "    </tr>\n",
       "  </tbody>\n",
       "</table>\n",
       "<p>5 rows × 50 columns</p>\n",
       "</div>"
      ],
      "text/plain": [
       "       lung     howev  signific    despit   higher  tabl      high  grade  \\\n",
       "0  0.000000  0.000000       0.0  0.000000  0.00000   0.0  0.000000    0.0   \n",
       "1  0.000000  0.013307       0.0  0.007407  0.02151   0.0  0.011682    0.0   \n",
       "2  0.017623  0.000000       0.0  0.033805  0.00000   0.0  0.000000    0.0   \n",
       "3  0.020770  0.000000       0.0  0.000000  0.00000   0.0  0.000000    0.0   \n",
       "4  0.000000  0.000000       0.0  0.000000  0.00000   0.0  0.006535    0.0   \n",
       "\n",
       "     associ     lower  ...  accuraci  led  efficaci    period  stabl  \\\n",
       "0  0.125068  0.000000  ...  0.000000  0.0  0.000000  0.009230    0.0   \n",
       "1  0.039784  0.047076  ...  0.000000  0.0  0.000000  0.000000    0.0   \n",
       "2  0.166444  0.000000  ...  0.019381  0.0  0.021267  0.040202    0.0   \n",
       "3  0.053500  0.000000  ...  0.000000  0.0  0.000000  0.094762    0.0   \n",
       "4  0.050074  0.000000  ...  0.007126  0.0  0.000000  0.022173    0.0   \n",
       "\n",
       "     coloni   sarscov        nk       ibd  exercis  \n",
       "0  0.016814  0.717622  0.000000  0.000000      0.0  \n",
       "1  0.048138  0.026682  0.000000  0.015507      0.0  \n",
       "2  0.000000  0.020296  0.160208  0.011796      0.0  \n",
       "3  0.000000  0.023920  0.000000  0.041708      0.0  \n",
       "4  0.000000  0.291049  0.000000  0.004337      0.0  \n",
       "\n",
       "[5 rows x 50 columns]"
      ]
     },
     "execution_count": 44,
     "metadata": {},
     "output_type": "execute_result"
    }
   ],
   "source": [
    "dd_vecs = create_features(dd)\n",
    "dd_vecs"
   ]
  },
  {
   "cell_type": "markdown",
   "metadata": {},
   "source": [
    "Great success. Now I need to get predictions from the model. I will need to retrieve two bits of pickled information: the xgboost model and the label encoder. I'm expecting to get numeric labels back from my model (0, 1, or 2) and I want to transform those into the string names. Remember, we are expecting to see thyroid cancer predicted for every observation in this mock dataset."
   ]
  },
  {
   "cell_type": "code",
   "execution_count": 45,
   "metadata": {},
   "outputs": [],
   "source": [
    "with open('xgb.pickle', 'rb') as f:\n",
    "    xgb = pickle.load(f)\n",
    "\n",
    "with open('enc.pickle', 'rb') as f:\n",
    "    encoder = pickle.load(f)    "
   ]
  },
  {
   "cell_type": "code",
   "execution_count": 48,
   "metadata": {},
   "outputs": [],
   "source": [
    "def make_preds(df, model=xgb, enc=encoder):\n",
    "\n",
    "    preds = model.predict(df)\n",
    "    return enc.inverse_transform(preds)"
   ]
  },
  {
   "cell_type": "code",
   "execution_count": 49,
   "metadata": {},
   "outputs": [
    {
     "data": {
      "text/plain": [
       "array(['Thyroid_Cancer', 'Thyroid_Cancer', 'Thyroid_Cancer',\n",
       "       'Thyroid_Cancer', 'Thyroid_Cancer'], dtype=object)"
      ]
     },
     "execution_count": 49,
     "metadata": {},
     "output_type": "execute_result"
    }
   ],
   "source": [
    "make_preds(dd_vecs)"
   ]
  },
  {
   "cell_type": "markdown",
   "metadata": {},
   "source": [
    "YUPPPPPPPPP"
   ]
  },
  {
   "cell_type": "markdown",
   "metadata": {},
   "source": [
    "I think I'm just going to figure out the final bullet point (making this callable from the command line) as I develop the script. There's no point scripting in a notebook."
   ]
  },
  {
   "cell_type": "markdown",
   "metadata": {},
   "source": []
  }
 ],
 "metadata": {
  "kernelspec": {
   "display_name": "base",
   "language": "python",
   "name": "python3"
  },
  "language_info": {
   "codemirror_mode": {
    "name": "ipython",
    "version": 3
   },
   "file_extension": ".py",
   "mimetype": "text/x-python",
   "name": "python",
   "nbconvert_exporter": "python",
   "pygments_lexer": "ipython3",
   "version": "3.8.5"
  }
 },
 "nbformat": 4,
 "nbformat_minor": 2
}
